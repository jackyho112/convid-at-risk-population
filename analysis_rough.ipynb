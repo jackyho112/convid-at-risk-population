{
 "cells": [
  {
   "cell_type": "code",
   "execution_count": 91,
   "metadata": {},
   "outputs": [],
   "source": [
    "import statsmodels.formula.api as smf\n",
    "import pandas as pd\n",
    "import numpy as np "
   ]
  },
  {
   "cell_type": "code",
   "execution_count": 92,
   "metadata": {},
   "outputs": [],
   "source": [
    "data = pd.read_csv('./relevant_data/factorized_data.csv')"
   ]
  },
  {
   "cell_type": "code",
   "execution_count": 93,
   "metadata": {},
   "outputs": [
    {
     "data": {
      "text/html": [
       "<div>\n",
       "<style scoped>\n",
       "    .dataframe tbody tr th:only-of-type {\n",
       "        vertical-align: middle;\n",
       "    }\n",
       "\n",
       "    .dataframe tbody tr th {\n",
       "        vertical-align: top;\n",
       "    }\n",
       "\n",
       "    .dataframe thead th {\n",
       "        text-align: right;\n",
       "    }\n",
       "</style>\n",
       "<table border=\"1\" class=\"dataframe\">\n",
       "  <thead>\n",
       "    <tr style=\"text-align: right;\">\n",
       "      <th></th>\n",
       "      <th>state</th>\n",
       "      <th>county</th>\n",
       "      <th>days_counted</th>\n",
       "      <th>case_count_28_days</th>\n",
       "      <th>death_count_28_days</th>\n",
       "      <th>confirmed_infection_perc</th>\n",
       "      <th>death_perc</th>\n",
       "      <th>avg_daily_case_increase_perc</th>\n",
       "      <th>case_count_28_days_perc</th>\n",
       "      <th>death_count_28_days_perc</th>\n",
       "      <th>...</th>\n",
       "      <th>c</th>\n",
       "      <th>d</th>\n",
       "      <th>e</th>\n",
       "      <th>f</th>\n",
       "      <th>g</th>\n",
       "      <th>h</th>\n",
       "      <th>x</th>\n",
       "      <th>y</th>\n",
       "      <th>z</th>\n",
       "      <th>political_affiation</th>\n",
       "    </tr>\n",
       "  </thead>\n",
       "  <tbody>\n",
       "    <tr>\n",
       "      <th>0</th>\n",
       "      <td>Alabama</td>\n",
       "      <td>Autauga</td>\n",
       "      <td>45</td>\n",
       "      <td>61</td>\n",
       "      <td>3</td>\n",
       "      <td>0.122776</td>\n",
       "      <td>5.970149</td>\n",
       "      <td>0.002728</td>\n",
       "      <td>0.111781</td>\n",
       "      <td>4.918033</td>\n",
       "      <td>...</td>\n",
       "      <td>-0.067437</td>\n",
       "      <td>-1.063671</td>\n",
       "      <td>-0.816565</td>\n",
       "      <td>0.292895</td>\n",
       "      <td>-0.587547</td>\n",
       "      <td>-1.055162</td>\n",
       "      <td>0.900737</td>\n",
       "      <td>0.525439</td>\n",
       "      <td>0.748800</td>\n",
       "      <td>red</td>\n",
       "    </tr>\n",
       "    <tr>\n",
       "      <th>1</th>\n",
       "      <td>Alabama</td>\n",
       "      <td>Baldwin</td>\n",
       "      <td>55</td>\n",
       "      <td>168</td>\n",
       "      <td>3</td>\n",
       "      <td>0.114120</td>\n",
       "      <td>2.403846</td>\n",
       "      <td>0.002075</td>\n",
       "      <td>0.092173</td>\n",
       "      <td>1.785714</td>\n",
       "      <td>...</td>\n",
       "      <td>-1.111645</td>\n",
       "      <td>-0.006026</td>\n",
       "      <td>0.615021</td>\n",
       "      <td>0.805596</td>\n",
       "      <td>-0.184761</td>\n",
       "      <td>1.413743</td>\n",
       "      <td>0.327119</td>\n",
       "      <td>0.940588</td>\n",
       "      <td>-2.373086</td>\n",
       "      <td>red</td>\n",
       "    </tr>\n",
       "    <tr>\n",
       "      <th>2</th>\n",
       "      <td>Alabama</td>\n",
       "      <td>Calhoun</td>\n",
       "      <td>51</td>\n",
       "      <td>93</td>\n",
       "      <td>3</td>\n",
       "      <td>0.103734</td>\n",
       "      <td>2.439024</td>\n",
       "      <td>0.002034</td>\n",
       "      <td>0.078433</td>\n",
       "      <td>3.225806</td>\n",
       "      <td>...</td>\n",
       "      <td>-1.099512</td>\n",
       "      <td>0.618695</td>\n",
       "      <td>1.295020</td>\n",
       "      <td>1.040607</td>\n",
       "      <td>-0.369933</td>\n",
       "      <td>1.913405</td>\n",
       "      <td>1.268261</td>\n",
       "      <td>1.545009</td>\n",
       "      <td>-1.166030</td>\n",
       "      <td>red</td>\n",
       "    </tr>\n",
       "    <tr>\n",
       "      <th>3</th>\n",
       "      <td>Alabama</td>\n",
       "      <td>Chambers</td>\n",
       "      <td>50</td>\n",
       "      <td>294</td>\n",
       "      <td>21</td>\n",
       "      <td>0.908958</td>\n",
       "      <td>6.752412</td>\n",
       "      <td>0.018179</td>\n",
       "      <td>0.859272</td>\n",
       "      <td>7.142857</td>\n",
       "      <td>...</td>\n",
       "      <td>-0.812190</td>\n",
       "      <td>-0.409231</td>\n",
       "      <td>1.367170</td>\n",
       "      <td>0.366954</td>\n",
       "      <td>1.245393</td>\n",
       "      <td>0.863623</td>\n",
       "      <td>0.221998</td>\n",
       "      <td>0.658388</td>\n",
       "      <td>-1.075072</td>\n",
       "      <td>red</td>\n",
       "    </tr>\n",
       "    <tr>\n",
       "      <th>4</th>\n",
       "      <td>Alabama</td>\n",
       "      <td>Cullman</td>\n",
       "      <td>49</td>\n",
       "      <td>58</td>\n",
       "      <td>0</td>\n",
       "      <td>0.077109</td>\n",
       "      <td>0.000000</td>\n",
       "      <td>0.001574</td>\n",
       "      <td>0.072134</td>\n",
       "      <td>0.000000</td>\n",
       "      <td>...</td>\n",
       "      <td>-0.769944</td>\n",
       "      <td>0.306894</td>\n",
       "      <td>1.251137</td>\n",
       "      <td>0.212702</td>\n",
       "      <td>-1.527593</td>\n",
       "      <td>-1.111953</td>\n",
       "      <td>0.843839</td>\n",
       "      <td>0.264264</td>\n",
       "      <td>-0.646752</td>\n",
       "      <td>red</td>\n",
       "    </tr>\n",
       "  </tbody>\n",
       "</table>\n",
       "<p>5 rows × 24 columns</p>\n",
       "</div>"
      ],
      "text/plain": [
       "     state    county  days_counted  case_count_28_days  death_count_28_days  \\\n",
       "0  Alabama   Autauga            45                  61                    3   \n",
       "1  Alabama   Baldwin            55                 168                    3   \n",
       "2  Alabama   Calhoun            51                  93                    3   \n",
       "3  Alabama  Chambers            50                 294                   21   \n",
       "4  Alabama   Cullman            49                  58                    0   \n",
       "\n",
       "   confirmed_infection_perc  death_perc  avg_daily_case_increase_perc  \\\n",
       "0                  0.122776    5.970149                      0.002728   \n",
       "1                  0.114120    2.403846                      0.002075   \n",
       "2                  0.103734    2.439024                      0.002034   \n",
       "3                  0.908958    6.752412                      0.018179   \n",
       "4                  0.077109    0.000000                      0.001574   \n",
       "\n",
       "   case_count_28_days_perc  death_count_28_days_perc  ...         c         d  \\\n",
       "0                 0.111781                  4.918033  ... -0.067437 -1.063671   \n",
       "1                 0.092173                  1.785714  ... -1.111645 -0.006026   \n",
       "2                 0.078433                  3.225806  ... -1.099512  0.618695   \n",
       "3                 0.859272                  7.142857  ... -0.812190 -0.409231   \n",
       "4                 0.072134                  0.000000  ... -0.769944  0.306894   \n",
       "\n",
       "          e         f         g         h         x         y         z  \\\n",
       "0 -0.816565  0.292895 -0.587547 -1.055162  0.900737  0.525439  0.748800   \n",
       "1  0.615021  0.805596 -0.184761  1.413743  0.327119  0.940588 -2.373086   \n",
       "2  1.295020  1.040607 -0.369933  1.913405  1.268261  1.545009 -1.166030   \n",
       "3  1.367170  0.366954  1.245393  0.863623  0.221998  0.658388 -1.075072   \n",
       "4  1.251137  0.212702 -1.527593 -1.111953  0.843839  0.264264 -0.646752   \n",
       "\n",
       "   political_affiation  \n",
       "0                  red  \n",
       "1                  red  \n",
       "2                  red  \n",
       "3                  red  \n",
       "4                  red  \n",
       "\n",
       "[5 rows x 24 columns]"
      ]
     },
     "execution_count": 93,
     "metadata": {},
     "output_type": "execute_result"
    }
   ],
   "source": [
    "data.head()"
   ]
  },
  {
   "cell_type": "code",
   "execution_count": 94,
   "metadata": {},
   "outputs": [
    {
     "data": {
      "text/plain": [
       "Index(['state', 'county', 'days_counted', 'case_count_28_days',\n",
       "       'death_count_28_days', 'confirmed_infection_perc', 'death_perc',\n",
       "       'avg_daily_case_increase_perc', 'case_count_28_days_perc',\n",
       "       'death_count_28_days_perc', 'presence_of_water_violation',\n",
       "       'state_house_blue_perc', 'a', 'b', 'c', 'd', 'e', 'f', 'g', 'h', 'x',\n",
       "       'y', 'z', 'political_affiation'],\n",
       "      dtype='object')"
      ]
     },
     "execution_count": 94,
     "metadata": {},
     "output_type": "execute_result"
    }
   ],
   "source": [
    "data.columns"
   ]
  },
  {
   "cell_type": "code",
   "execution_count": 95,
   "metadata": {},
   "outputs": [],
   "source": [
    "md = smf.mixedlm(\n",
    "    \"case_count_28_days_perc ~ a + b + c + d + e + f + g + h + x + y + z\", \n",
    "    data, \n",
    "    groups=data[\"political_affiation\"]\n",
    ")"
   ]
  },
  {
   "cell_type": "code",
   "execution_count": 96,
   "metadata": {},
   "outputs": [
    {
     "name": "stderr",
     "output_type": "stream",
     "text": [
      "/opt/anaconda3/lib/python3.7/site-packages/statsmodels/regression/mixed_linear_model.py:2094: ConvergenceWarning: The MLE may be on the boundary of the parameter space.\n",
      "  warnings.warn(msg, ConvergenceWarning)\n"
     ]
    }
   ],
   "source": [
    "mdf = md.fit()"
   ]
  },
  {
   "cell_type": "code",
   "execution_count": 97,
   "metadata": {},
   "outputs": [
    {
     "name": "stdout",
     "output_type": "stream",
     "text": [
      "                Mixed Linear Model Regression Results\n",
      "=====================================================================\n",
      "Model:            MixedLM Dependent Variable: case_count_28_days_perc\n",
      "No. Observations: 1222    Method:             REML                   \n",
      "No. Groups:       2       Scale:              0.1142                 \n",
      "Min. group size:  342     Likelihood:         -448.5555              \n",
      "Max. group size:  880     Converged:          Yes                    \n",
      "Mean group size:  611.0                                              \n",
      "------------------------------------------------------------------------\n",
      "               Coef.     Std.Err.      z       P>|z|    [0.025    0.975]\n",
      "------------------------------------------------------------------------\n",
      "Intercept       0.230       0.029     7.860    0.000     0.172     0.287\n",
      "a               0.023       0.011     2.049    0.040     0.001     0.045\n",
      "b               0.050       0.011     4.638    0.000     0.029     0.071\n",
      "c               0.007       0.009     0.787    0.432    -0.011     0.026\n",
      "d              -0.040       0.010    -3.934    0.000    -0.060    -0.020\n",
      "e              -0.012       0.008    -1.488    0.137    -0.028     0.004\n",
      "f               0.001       0.010     0.077    0.939    -0.019     0.021\n",
      "g               0.073       0.010     7.469    0.000     0.054     0.092\n",
      "h              -0.000       0.007    -0.063    0.950    -0.014     0.013\n",
      "x               0.021       0.010     2.100    0.036     0.001     0.041\n",
      "y               0.047       0.011     4.201    0.000     0.025     0.069\n",
      "z               0.035       0.009     4.007    0.000     0.018     0.052\n",
      "Group Var       0.001       0.008                                       \n",
      "=====================================================================\n",
      "\n"
     ]
    }
   ],
   "source": [
    "print(mdf.summary())"
   ]
  },
  {
   "cell_type": "code",
   "execution_count": 98,
   "metadata": {},
   "outputs": [],
   "source": [
    "mod = smf.ols(formula='case_count_28_days_perc ~ a + b + c + d + e + f + g + h + x + y + z', data=data)"
   ]
  },
  {
   "cell_type": "code",
   "execution_count": 99,
   "metadata": {},
   "outputs": [],
   "source": [
    "res = mod.fit()"
   ]
  },
  {
   "cell_type": "code",
   "execution_count": 100,
   "metadata": {},
   "outputs": [
    {
     "name": "stdout",
     "output_type": "stream",
     "text": [
      "                               OLS Regression Results                              \n",
      "===================================================================================\n",
      "Dep. Variable:     case_count_28_days_perc   R-squared:                       0.104\n",
      "Model:                                 OLS   Adj. R-squared:                  0.096\n",
      "Method:                      Least Squares   F-statistic:                     12.82\n",
      "Date:                     Sat, 09 May 2020   Prob (F-statistic):           2.90e-23\n",
      "Time:                             12:13:36   Log-Likelihood:                -403.94\n",
      "No. Observations:                     1222   AIC:                             831.9\n",
      "Df Residuals:                         1210   BIC:                             893.2\n",
      "Df Model:                               11                                         \n",
      "Covariance Type:                 nonrobust                                         \n",
      "==============================================================================\n",
      "                 coef    std err          t      P>|t|      [0.025      0.975]\n",
      "------------------------------------------------------------------------------\n",
      "Intercept      0.2194      0.010     22.666      0.000       0.200       0.238\n",
      "a              0.0148      0.010      1.526      0.127      -0.004       0.034\n",
      "b              0.0561      0.010      5.762      0.000       0.037       0.075\n",
      "c              0.0105      0.009      1.147      0.251      -0.007       0.028\n",
      "d             -0.0407      0.010     -3.976      0.000      -0.061      -0.021\n",
      "e             -0.0156      0.008     -2.070      0.039      -0.030      -0.001\n",
      "f             -0.0041      0.010     -0.420      0.675      -0.023       0.015\n",
      "g              0.0732      0.010      7.491      0.000       0.054       0.092\n",
      "h              0.0013      0.007      0.194      0.846      -0.012       0.014\n",
      "x              0.0239      0.010      2.373      0.018       0.004       0.044\n",
      "y              0.0418      0.011      3.941      0.000       0.021       0.063\n",
      "z              0.0327      0.009      3.818      0.000       0.016       0.049\n",
      "==============================================================================\n",
      "Omnibus:                     1515.964   Durbin-Watson:                   1.805\n",
      "Prob(Omnibus):                  0.000   Jarque-Bera (JB):           266120.757\n",
      "Skew:                           6.320   Prob(JB):                         0.00\n",
      "Kurtosis:                      74.182   Cond. No.                         2.29\n",
      "==============================================================================\n",
      "\n",
      "Warnings:\n",
      "[1] Standard Errors assume that the covariance matrix of the errors is correctly specified.\n"
     ]
    }
   ],
   "source": [
    "print(res.summary())"
   ]
  },
  {
   "cell_type": "code",
   "execution_count": 272,
   "metadata": {},
   "outputs": [],
   "source": [
    "mod = smf.ols(\n",
    "    formula=' '.join([\n",
    "        'case_count_28_days_perc ~',\n",
    "        '+ a*political_affiation',\n",
    "        '+ b*political_affiation',\n",
    "        '+ d',\n",
    "        '+ e*political_affiation',\n",
    "        '+ f*political_affiation',\n",
    "        '+ g',\n",
    "        '+ y*political_affiation',\n",
    "        '+ z'\n",
    "    ]), \n",
    "    data=data\n",
    ")"
   ]
  },
  {
   "cell_type": "code",
   "execution_count": 273,
   "metadata": {},
   "outputs": [],
   "source": [
    "res = mod.fit()"
   ]
  },
  {
   "cell_type": "code",
   "execution_count": 274,
   "metadata": {},
   "outputs": [
    {
     "name": "stdout",
     "output_type": "stream",
     "text": [
      "                               OLS Regression Results                              \n",
      "===================================================================================\n",
      "Dep. Variable:     case_count_28_days_perc   R-squared:                       0.152\n",
      "Model:                                 OLS   Adj. R-squared:                  0.143\n",
      "Method:                      Least Squares   F-statistic:                     15.51\n",
      "Date:                     Sat, 09 May 2020   Prob (F-statistic):           3.97e-35\n",
      "Time:                             12:38:35   Log-Likelihood:                -370.18\n",
      "No. Observations:                     1222   AIC:                             770.4\n",
      "Df Residuals:                         1207   BIC:                             847.0\n",
      "Df Model:                               14                                         \n",
      "Covariance Type:                 nonrobust                                         \n",
      "================================================================================================\n",
      "                                   coef    std err          t      P>|t|      [0.025      0.975]\n",
      "------------------------------------------------------------------------------------------------\n",
      "Intercept                        0.2287      0.028      8.233      0.000       0.174       0.283\n",
      "political_affiation[T.red]      -0.0339      0.031     -1.107      0.268      -0.094       0.026\n",
      "a                               -0.0537      0.023     -2.374      0.018      -0.098      -0.009\n",
      "a:political_affiation[T.red]     0.0980      0.026      3.784      0.000       0.047       0.149\n",
      "b                                0.1038      0.018      5.838      0.000       0.069       0.139\n",
      "b:political_affiation[T.red]    -0.0828      0.022     -3.743      0.000      -0.126      -0.039\n",
      "d                               -0.0375      0.010     -3.731      0.000      -0.057      -0.018\n",
      "e                                0.0425      0.017      2.536      0.011       0.010       0.075\n",
      "e:political_affiation[T.red]    -0.0596      0.019     -3.165      0.002      -0.097      -0.023\n",
      "f                               -0.0583      0.018     -3.275      0.001      -0.093      -0.023\n",
      "f:political_affiation[T.red]     0.0709      0.020      3.469      0.001       0.031       0.111\n",
      "g                                0.0698      0.010      7.053      0.000       0.050       0.089\n",
      "y                                0.1235      0.017      7.415      0.000       0.091       0.156\n",
      "y:political_affiation[T.red]    -0.1023      0.022     -4.713      0.000      -0.145      -0.060\n",
      "z                                0.0307      0.008      3.899      0.000       0.015       0.046\n",
      "==============================================================================\n",
      "Omnibus:                     1517.149   Durbin-Watson:                   1.833\n",
      "Prob(Omnibus):                  0.000   Jarque-Bera (JB):           288941.035\n",
      "Skew:                           6.291   Prob(JB):                         0.00\n",
      "Kurtosis:                      77.273   Cond. No.                         8.78\n",
      "==============================================================================\n",
      "\n",
      "Warnings:\n",
      "[1] Standard Errors assume that the covariance matrix of the errors is correctly specified.\n"
     ]
    }
   ],
   "source": [
    "print(res.summary())"
   ]
  },
  {
   "cell_type": "code",
   "execution_count": null,
   "metadata": {},
   "outputs": [],
   "source": []
  }
 ],
 "metadata": {
  "kernelspec": {
   "display_name": "Python 3",
   "language": "python",
   "name": "python3"
  },
  "language_info": {
   "codemirror_mode": {
    "name": "ipython",
    "version": 3
   },
   "file_extension": ".py",
   "mimetype": "text/x-python",
   "name": "python",
   "nbconvert_exporter": "python",
   "pygments_lexer": "ipython3",
   "version": "3.7.4"
  }
 },
 "nbformat": 4,
 "nbformat_minor": 4
}
