{
 "cells": [
  {
   "cell_type": "code",
   "execution_count": 1,
   "metadata": {},
   "outputs": [
    {
     "name": "stderr",
     "output_type": "stream",
     "text": [
      "/opt/anaconda3/lib/python3.7/site-packages/statsmodels/tools/_testing.py:19: FutureWarning: pandas.util.testing is deprecated. Use the functions in the public API at pandas.testing instead.\n",
      "  import pandas.util.testing as tm\n"
     ]
    }
   ],
   "source": [
    "import statsmodels.formula.api as smf\n",
    "import pandas as pd\n",
    "import numpy as np "
   ]
  },
  {
   "cell_type": "code",
   "execution_count": 2,
   "metadata": {},
   "outputs": [],
   "source": [
    "data = pd.read_csv('./relevant_data/factorized_data.csv')"
   ]
  },
  {
   "cell_type": "code",
   "execution_count": 3,
   "metadata": {},
   "outputs": [
    {
     "data": {
      "text/html": [
       "<div>\n",
       "<style scoped>\n",
       "    .dataframe tbody tr th:only-of-type {\n",
       "        vertical-align: middle;\n",
       "    }\n",
       "\n",
       "    .dataframe tbody tr th {\n",
       "        vertical-align: top;\n",
       "    }\n",
       "\n",
       "    .dataframe thead th {\n",
       "        text-align: right;\n",
       "    }\n",
       "</style>\n",
       "<table border=\"1\" class=\"dataframe\">\n",
       "  <thead>\n",
       "    <tr style=\"text-align: right;\">\n",
       "      <th></th>\n",
       "      <th>state</th>\n",
       "      <th>county</th>\n",
       "      <th>days_counted</th>\n",
       "      <th>case_count_28_days</th>\n",
       "      <th>death_count_28_days</th>\n",
       "      <th>confirmed_infection(%_of_pop)</th>\n",
       "      <th>death_perc_percent_of_case</th>\n",
       "      <th>avg_daily_case_increase(%_of_pop)</th>\n",
       "      <th>case_count_28_days_percent_of_pop</th>\n",
       "      <th>death_count_28_days(%_of_case)</th>\n",
       "      <th>...</th>\n",
       "      <th>c</th>\n",
       "      <th>d</th>\n",
       "      <th>e</th>\n",
       "      <th>f</th>\n",
       "      <th>g</th>\n",
       "      <th>h</th>\n",
       "      <th>x</th>\n",
       "      <th>y</th>\n",
       "      <th>z</th>\n",
       "      <th>political_affiation</th>\n",
       "    </tr>\n",
       "  </thead>\n",
       "  <tbody>\n",
       "    <tr>\n",
       "      <th>0</th>\n",
       "      <td>Alabama</td>\n",
       "      <td>Autauga</td>\n",
       "      <td>42</td>\n",
       "      <td>28</td>\n",
       "      <td>1</td>\n",
       "      <td>0.097121</td>\n",
       "      <td>5.660377</td>\n",
       "      <td>0.002312</td>\n",
       "      <td>0.051309</td>\n",
       "      <td>3.571429</td>\n",
       "      <td>...</td>\n",
       "      <td>-0.171838</td>\n",
       "      <td>-0.411362</td>\n",
       "      <td>0.753542</td>\n",
       "      <td>-0.496716</td>\n",
       "      <td>1.345301</td>\n",
       "      <td>-0.338827</td>\n",
       "      <td>-0.154339</td>\n",
       "      <td>0.352069</td>\n",
       "      <td>4.200503</td>\n",
       "      <td>red</td>\n",
       "    </tr>\n",
       "    <tr>\n",
       "      <th>1</th>\n",
       "      <td>Alabama</td>\n",
       "      <td>Baldwin</td>\n",
       "      <td>52</td>\n",
       "      <td>59</td>\n",
       "      <td>1</td>\n",
       "      <td>0.103695</td>\n",
       "      <td>2.645503</td>\n",
       "      <td>0.001994</td>\n",
       "      <td>0.032370</td>\n",
       "      <td>1.694915</td>\n",
       "      <td>...</td>\n",
       "      <td>-0.972293</td>\n",
       "      <td>0.347173</td>\n",
       "      <td>-0.187762</td>\n",
       "      <td>0.395877</td>\n",
       "      <td>-0.502685</td>\n",
       "      <td>-0.652433</td>\n",
       "      <td>-2.167384</td>\n",
       "      <td>1.433223</td>\n",
       "      <td>-8.916292</td>\n",
       "      <td>red</td>\n",
       "    </tr>\n",
       "    <tr>\n",
       "      <th>2</th>\n",
       "      <td>Alabama</td>\n",
       "      <td>Barbour</td>\n",
       "      <td>32</td>\n",
       "      <td>39</td>\n",
       "      <td>1</td>\n",
       "      <td>0.171177</td>\n",
       "      <td>2.127660</td>\n",
       "      <td>0.005349</td>\n",
       "      <td>0.142040</td>\n",
       "      <td>2.564103</td>\n",
       "      <td>...</td>\n",
       "      <td>0.113371</td>\n",
       "      <td>-1.132250</td>\n",
       "      <td>-0.302783</td>\n",
       "      <td>1.888090</td>\n",
       "      <td>-0.461790</td>\n",
       "      <td>-0.234830</td>\n",
       "      <td>-2.383263</td>\n",
       "      <td>-0.532584</td>\n",
       "      <td>-5.812144</td>\n",
       "      <td>red</td>\n",
       "    </tr>\n",
       "    <tr>\n",
       "      <th>3</th>\n",
       "      <td>Alabama</td>\n",
       "      <td>Bibb</td>\n",
       "      <td>36</td>\n",
       "      <td>38</td>\n",
       "      <td>0</td>\n",
       "      <td>0.187650</td>\n",
       "      <td>0.000000</td>\n",
       "      <td>0.005213</td>\n",
       "      <td>0.165830</td>\n",
       "      <td>0.000000</td>\n",
       "      <td>...</td>\n",
       "      <td>-0.570395</td>\n",
       "      <td>-0.351200</td>\n",
       "      <td>0.196018</td>\n",
       "      <td>0.029196</td>\n",
       "      <td>1.270533</td>\n",
       "      <td>0.166433</td>\n",
       "      <td>-1.415777</td>\n",
       "      <td>-0.577391</td>\n",
       "      <td>1.359687</td>\n",
       "      <td>red</td>\n",
       "    </tr>\n",
       "    <tr>\n",
       "      <th>4</th>\n",
       "      <td>Alabama</td>\n",
       "      <td>Blount</td>\n",
       "      <td>41</td>\n",
       "      <td>26</td>\n",
       "      <td>0</td>\n",
       "      <td>0.069781</td>\n",
       "      <td>0.000000</td>\n",
       "      <td>0.001702</td>\n",
       "      <td>0.045358</td>\n",
       "      <td>0.000000</td>\n",
       "      <td>...</td>\n",
       "      <td>-0.439406</td>\n",
       "      <td>0.586289</td>\n",
       "      <td>0.354190</td>\n",
       "      <td>-0.665863</td>\n",
       "      <td>1.022945</td>\n",
       "      <td>-0.031340</td>\n",
       "      <td>-1.311875</td>\n",
       "      <td>1.006350</td>\n",
       "      <td>-6.528453</td>\n",
       "      <td>red</td>\n",
       "    </tr>\n",
       "  </tbody>\n",
       "</table>\n",
       "<p>5 rows × 24 columns</p>\n",
       "</div>"
      ],
      "text/plain": [
       "     state   county  days_counted  case_count_28_days  death_count_28_days  \\\n",
       "0  Alabama  Autauga            42                  28                    1   \n",
       "1  Alabama  Baldwin            52                  59                    1   \n",
       "2  Alabama  Barbour            32                  39                    1   \n",
       "3  Alabama     Bibb            36                  38                    0   \n",
       "4  Alabama   Blount            41                  26                    0   \n",
       "\n",
       "   confirmed_infection(%_of_pop)  death_perc_percent_of_case  \\\n",
       "0                       0.097121                    5.660377   \n",
       "1                       0.103695                    2.645503   \n",
       "2                       0.171177                    2.127660   \n",
       "3                       0.187650                    0.000000   \n",
       "4                       0.069781                    0.000000   \n",
       "\n",
       "   avg_daily_case_increase(%_of_pop)  case_count_28_days_percent_of_pop  \\\n",
       "0                           0.002312                           0.051309   \n",
       "1                           0.001994                           0.032370   \n",
       "2                           0.005349                           0.142040   \n",
       "3                           0.005213                           0.165830   \n",
       "4                           0.001702                           0.045358   \n",
       "\n",
       "   death_count_28_days(%_of_case)  ...         c         d         e  \\\n",
       "0                        3.571429  ... -0.171838 -0.411362  0.753542   \n",
       "1                        1.694915  ... -0.972293  0.347173 -0.187762   \n",
       "2                        2.564103  ...  0.113371 -1.132250 -0.302783   \n",
       "3                        0.000000  ... -0.570395 -0.351200  0.196018   \n",
       "4                        0.000000  ... -0.439406  0.586289  0.354190   \n",
       "\n",
       "          f         g         h         x         y         z  \\\n",
       "0 -0.496716  1.345301 -0.338827 -0.154339  0.352069  4.200503   \n",
       "1  0.395877 -0.502685 -0.652433 -2.167384  1.433223 -8.916292   \n",
       "2  1.888090 -0.461790 -0.234830 -2.383263 -0.532584 -5.812144   \n",
       "3  0.029196  1.270533  0.166433 -1.415777 -0.577391  1.359687   \n",
       "4 -0.665863  1.022945 -0.031340 -1.311875  1.006350 -6.528453   \n",
       "\n",
       "   political_affiation  \n",
       "0                  red  \n",
       "1                  red  \n",
       "2                  red  \n",
       "3                  red  \n",
       "4                  red  \n",
       "\n",
       "[5 rows x 24 columns]"
      ]
     },
     "execution_count": 3,
     "metadata": {},
     "output_type": "execute_result"
    }
   ],
   "source": [
    "data.head()"
   ]
  },
  {
   "cell_type": "code",
   "execution_count": 4,
   "metadata": {},
   "outputs": [
    {
     "data": {
      "text/plain": [
       "Index(['state', 'county', 'days_counted', 'case_count_28_days',\n",
       "       'death_count_28_days', 'confirmed_infection(%_of_pop)',\n",
       "       'death_perc_percent_of_case', 'avg_daily_case_increase(%_of_pop)',\n",
       "       'case_count_28_days_percent_of_pop', 'death_count_28_days(%_of_case)',\n",
       "       'presence_of_water_violation', 'state_house_blue_perc', 'a', 'b', 'c',\n",
       "       'd', 'e', 'f', 'g', 'h', 'x', 'y', 'z', 'political_affiation'],\n",
       "      dtype='object')"
      ]
     },
     "execution_count": 4,
     "metadata": {},
     "output_type": "execute_result"
    }
   ],
   "source": [
    "data.columns"
   ]
  },
  {
   "cell_type": "code",
   "execution_count": 6,
   "metadata": {},
   "outputs": [],
   "source": [
    "md = smf.mixedlm(\n",
    "    \"case_count_28_days_percent_of_pop ~ a + b + c + d + e + f + g + h + x + y + z\", \n",
    "    data, \n",
    "    groups=data[\"political_affiation\"]\n",
    ")"
   ]
  },
  {
   "cell_type": "code",
   "execution_count": 7,
   "metadata": {},
   "outputs": [
    {
     "name": "stderr",
     "output_type": "stream",
     "text": [
      "/opt/anaconda3/lib/python3.7/site-packages/statsmodels/regression/mixed_linear_model.py:2094: ConvergenceWarning: The MLE may be on the boundary of the parameter space.\n",
      "  warnings.warn(msg, ConvergenceWarning)\n"
     ]
    }
   ],
   "source": [
    "mdf = md.fit()"
   ]
  },
  {
   "cell_type": "code",
   "execution_count": 8,
   "metadata": {},
   "outputs": [
    {
     "name": "stdout",
     "output_type": "stream",
     "text": [
      "                     Mixed Linear Model Regression Results\n",
      "===============================================================================\n",
      "Model:            MixedLM Dependent Variable: case_count_28_days_percent_of_pop\n",
      "No. Observations: 2337    Method:             REML                             \n",
      "No. Groups:       3       Scale:              0.0386                           \n",
      "Min. group size:  509     Likelihood:         433.2750                         \n",
      "Max. group size:  1295    Converged:          Yes                              \n",
      "Mean group size:  779.0                                                        \n",
      "------------------------------------------------------------------------------------\n",
      "                 Coef.       Std.Err.        z         P>|z|      [0.025      0.975]\n",
      "------------------------------------------------------------------------------------\n",
      "Intercept         0.089         0.019       4.679      0.000       0.052       0.127\n",
      "a                 0.005         0.005       1.049      0.294      -0.004       0.014\n",
      "b                 0.028         0.004       6.191      0.000       0.019       0.036\n",
      "c                 0.006         0.004       1.517      0.129      -0.002       0.014\n",
      "d                 0.001         0.003       0.199      0.842      -0.006       0.007\n",
      "e                -0.003         0.005      -0.595      0.552      -0.012       0.006\n",
      "f                 0.033         0.004       8.019      0.000       0.025       0.041\n",
      "g                 0.020         0.004       4.629      0.000       0.012       0.029\n",
      "h                 0.003         0.005       0.726      0.468      -0.006       0.012\n",
      "x                -0.011         0.003      -3.923      0.000      -0.016      -0.005\n",
      "y                -0.014         0.004      -3.278      0.001      -0.023      -0.006\n",
      "z                -0.001         0.001      -0.595      0.552      -0.003       0.002\n",
      "Group Var         0.001         0.006                                               \n",
      "===============================================================================\n",
      "\n"
     ]
    }
   ],
   "source": [
    "print(mdf.summary())"
   ]
  },
  {
   "cell_type": "code",
   "execution_count": null,
   "metadata": {},
   "outputs": [],
   "source": []
  }
 ],
 "metadata": {
  "kernelspec": {
   "display_name": "Python 3",
   "language": "python",
   "name": "python3"
  },
  "language_info": {
   "codemirror_mode": {
    "name": "ipython",
    "version": 3
   },
   "file_extension": ".py",
   "mimetype": "text/x-python",
   "name": "python",
   "nbconvert_exporter": "python",
   "pygments_lexer": "ipython3",
   "version": "3.7.4"
  }
 },
 "nbformat": 4,
 "nbformat_minor": 4
}
