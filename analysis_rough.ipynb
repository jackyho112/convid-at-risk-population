{
 "cells": [
  {
   "cell_type": "code",
   "execution_count": 2,
   "metadata": {},
   "outputs": [],
   "source": [
    "import statsmodels.formula.api as smf\n",
    "import pandas as pd\n",
    "import numpy as np "
   ]
  },
  {
   "cell_type": "code",
   "execution_count": 3,
   "metadata": {},
   "outputs": [],
   "source": [
    "data = pd.read_csv('./relevant_data/factorized_data.csv')"
   ]
  },
  {
   "cell_type": "code",
   "execution_count": 4,
   "metadata": {},
   "outputs": [
    {
     "data": {
      "text/html": [
       "<div>\n",
       "<style scoped>\n",
       "    .dataframe tbody tr th:only-of-type {\n",
       "        vertical-align: middle;\n",
       "    }\n",
       "\n",
       "    .dataframe tbody tr th {\n",
       "        vertical-align: top;\n",
       "    }\n",
       "\n",
       "    .dataframe thead th {\n",
       "        text-align: right;\n",
       "    }\n",
       "</style>\n",
       "<table border=\"1\" class=\"dataframe\">\n",
       "  <thead>\n",
       "    <tr style=\"text-align: right;\">\n",
       "      <th></th>\n",
       "      <th>state</th>\n",
       "      <th>county</th>\n",
       "      <th>days_counted</th>\n",
       "      <th>case_count_28_days</th>\n",
       "      <th>death_count_28_days</th>\n",
       "      <th>confirmed_infection(%_of_pop)</th>\n",
       "      <th>death_perc(%_of_case)</th>\n",
       "      <th>avg_daily_case_increase(%_of_pop)</th>\n",
       "      <th>case_count_28_days(%_of_pop)</th>\n",
       "      <th>death_count_28_days(%_of_case)</th>\n",
       "      <th>...</th>\n",
       "      <th>0</th>\n",
       "      <th>1</th>\n",
       "      <th>2</th>\n",
       "      <th>3</th>\n",
       "      <th>4</th>\n",
       "      <th>5</th>\n",
       "      <th>6</th>\n",
       "      <th>7</th>\n",
       "      <th>8</th>\n",
       "      <th>9</th>\n",
       "    </tr>\n",
       "  </thead>\n",
       "  <tbody>\n",
       "    <tr>\n",
       "      <th>0</th>\n",
       "      <td>Alabama</td>\n",
       "      <td>Autauga</td>\n",
       "      <td>40</td>\n",
       "      <td>28</td>\n",
       "      <td>1</td>\n",
       "      <td>0.087959</td>\n",
       "      <td>6.250000</td>\n",
       "      <td>0.002199</td>\n",
       "      <td>0.051309</td>\n",
       "      <td>3.571429</td>\n",
       "      <td>...</td>\n",
       "      <td>0.508782</td>\n",
       "      <td>-0.367189</td>\n",
       "      <td>0.615150</td>\n",
       "      <td>-0.835770</td>\n",
       "      <td>0.394089</td>\n",
       "      <td>-0.125042</td>\n",
       "      <td>-0.918983</td>\n",
       "      <td>-1.776005</td>\n",
       "      <td>0.440368</td>\n",
       "      <td>0.448570</td>\n",
       "    </tr>\n",
       "    <tr>\n",
       "      <th>1</th>\n",
       "      <td>Alabama</td>\n",
       "      <td>Baldwin</td>\n",
       "      <td>50</td>\n",
       "      <td>59</td>\n",
       "      <td>1</td>\n",
       "      <td>0.102598</td>\n",
       "      <td>2.139037</td>\n",
       "      <td>0.002052</td>\n",
       "      <td>0.032370</td>\n",
       "      <td>1.694915</td>\n",
       "      <td>...</td>\n",
       "      <td>-0.668704</td>\n",
       "      <td>-0.315565</td>\n",
       "      <td>0.306642</td>\n",
       "      <td>1.062588</td>\n",
       "      <td>-1.685914</td>\n",
       "      <td>-0.168590</td>\n",
       "      <td>0.411602</td>\n",
       "      <td>0.594934</td>\n",
       "      <td>0.567593</td>\n",
       "      <td>0.338701</td>\n",
       "    </tr>\n",
       "    <tr>\n",
       "      <th>2</th>\n",
       "      <td>Alabama</td>\n",
       "      <td>Barbour</td>\n",
       "      <td>30</td>\n",
       "      <td>39</td>\n",
       "      <td>1</td>\n",
       "      <td>0.163893</td>\n",
       "      <td>2.222222</td>\n",
       "      <td>0.005463</td>\n",
       "      <td>0.142040</td>\n",
       "      <td>2.564103</td>\n",
       "      <td>...</td>\n",
       "      <td>1.373388</td>\n",
       "      <td>0.264925</td>\n",
       "      <td>0.411886</td>\n",
       "      <td>2.826243</td>\n",
       "      <td>-0.989545</td>\n",
       "      <td>-1.223760</td>\n",
       "      <td>-0.042869</td>\n",
       "      <td>-0.317388</td>\n",
       "      <td>-0.112661</td>\n",
       "      <td>-1.452411</td>\n",
       "    </tr>\n",
       "    <tr>\n",
       "      <th>3</th>\n",
       "      <td>Alabama</td>\n",
       "      <td>Bibb</td>\n",
       "      <td>34</td>\n",
       "      <td>38</td>\n",
       "      <td>0</td>\n",
       "      <td>0.187650</td>\n",
       "      <td>0.000000</td>\n",
       "      <td>0.005519</td>\n",
       "      <td>0.165830</td>\n",
       "      <td>0.000000</td>\n",
       "      <td>...</td>\n",
       "      <td>1.197643</td>\n",
       "      <td>-0.890784</td>\n",
       "      <td>-0.254865</td>\n",
       "      <td>-0.417299</td>\n",
       "      <td>0.281873</td>\n",
       "      <td>0.062386</td>\n",
       "      <td>-1.028453</td>\n",
       "      <td>-1.464146</td>\n",
       "      <td>-0.213853</td>\n",
       "      <td>0.067028</td>\n",
       "    </tr>\n",
       "    <tr>\n",
       "      <th>4</th>\n",
       "      <td>Alabama</td>\n",
       "      <td>Blount</td>\n",
       "      <td>39</td>\n",
       "      <td>26</td>\n",
       "      <td>0</td>\n",
       "      <td>0.069781</td>\n",
       "      <td>0.000000</td>\n",
       "      <td>0.001789</td>\n",
       "      <td>0.045358</td>\n",
       "      <td>0.000000</td>\n",
       "      <td>...</td>\n",
       "      <td>0.724192</td>\n",
       "      <td>-0.020164</td>\n",
       "      <td>-0.788803</td>\n",
       "      <td>-0.452159</td>\n",
       "      <td>-0.856071</td>\n",
       "      <td>0.175758</td>\n",
       "      <td>-1.146715</td>\n",
       "      <td>1.122920</td>\n",
       "      <td>0.886110</td>\n",
       "      <td>0.762134</td>\n",
       "    </tr>\n",
       "  </tbody>\n",
       "</table>\n",
       "<p>5 rows × 21 columns</p>\n",
       "</div>"
      ],
      "text/plain": [
       "     state   county  days_counted  case_count_28_days  death_count_28_days  \\\n",
       "0  Alabama  Autauga            40                  28                    1   \n",
       "1  Alabama  Baldwin            50                  59                    1   \n",
       "2  Alabama  Barbour            30                  39                    1   \n",
       "3  Alabama     Bibb            34                  38                    0   \n",
       "4  Alabama   Blount            39                  26                    0   \n",
       "\n",
       "   confirmed_infection(%_of_pop)  death_perc(%_of_case)  \\\n",
       "0                       0.087959               6.250000   \n",
       "1                       0.102598               2.139037   \n",
       "2                       0.163893               2.222222   \n",
       "3                       0.187650               0.000000   \n",
       "4                       0.069781               0.000000   \n",
       "\n",
       "   avg_daily_case_increase(%_of_pop)  case_count_28_days(%_of_pop)  \\\n",
       "0                           0.002199                      0.051309   \n",
       "1                           0.002052                      0.032370   \n",
       "2                           0.005463                      0.142040   \n",
       "3                           0.005519                      0.165830   \n",
       "4                           0.001789                      0.045358   \n",
       "\n",
       "   death_count_28_days(%_of_case)  ...         0         1         2  \\\n",
       "0                        3.571429  ...  0.508782 -0.367189  0.615150   \n",
       "1                        1.694915  ... -0.668704 -0.315565  0.306642   \n",
       "2                        2.564103  ...  1.373388  0.264925  0.411886   \n",
       "3                        0.000000  ...  1.197643 -0.890784 -0.254865   \n",
       "4                        0.000000  ...  0.724192 -0.020164 -0.788803   \n",
       "\n",
       "          3         4         5         6         7         8         9  \n",
       "0 -0.835770  0.394089 -0.125042 -0.918983 -1.776005  0.440368  0.448570  \n",
       "1  1.062588 -1.685914 -0.168590  0.411602  0.594934  0.567593  0.338701  \n",
       "2  2.826243 -0.989545 -1.223760 -0.042869 -0.317388 -0.112661 -1.452411  \n",
       "3 -0.417299  0.281873  0.062386 -1.028453 -1.464146 -0.213853  0.067028  \n",
       "4 -0.452159 -0.856071  0.175758 -1.146715  1.122920  0.886110  0.762134  \n",
       "\n",
       "[5 rows x 21 columns]"
      ]
     },
     "execution_count": 4,
     "metadata": {},
     "output_type": "execute_result"
    }
   ],
   "source": [
    "data.head()"
   ]
  },
  {
   "cell_type": "code",
   "execution_count": 16,
   "metadata": {},
   "outputs": [
    {
     "data": {
      "text/plain": [
       "Index(['state', 'county', 'days_counted', 'case_count_28_days',\n",
       "       'death_count_28_days', 'confirmed_infection(%_of_pop)',\n",
       "       'death_perc(%_of_case)', 'avg_daily_case_increase(%_of_pop)',\n",
       "       'case_count_28_days(percent_of_pop)', 'death_count_28_days(%_of_case)',\n",
       "       'presence_of_water_violation', 'a', 'b', 'c', 'd', 'e', 'f', 'g', 'h',\n",
       "       'i', 'f'],\n",
       "      dtype='object')"
      ]
     },
     "execution_count": 16,
     "metadata": {},
     "output_type": "execute_result"
    }
   ],
   "source": [
    "data.columns"
   ]
  },
  {
   "cell_type": "code",
   "execution_count": 17,
   "metadata": {},
   "outputs": [],
   "source": [
    "data.columns = ['state', 'county', 'days_counted', 'case_count_28_days',\n",
    "       'death_count_28_days', 'confirmed_infection(%_of_pop)',\n",
    "       'death_perc(%_of_case)', 'avg_daily_case_increase(%_of_pop)',\n",
    "       'case_count_28_days_percent_of_pop', 'death_count_28_days(%_of_case)',\n",
    "       'presence_of_water_violation', 'a', 'b', 'c', 'd', 'e', 'f', 'g', 'h',\n",
    "       'i', 'f']"
   ]
  },
  {
   "cell_type": "code",
   "execution_count": 18,
   "metadata": {},
   "outputs": [
    {
     "data": {
      "text/plain": [
       "Index(['state', 'county', 'days_counted', 'case_count_28_days',\n",
       "       'death_count_28_days', 'confirmed_infection(%_of_pop)',\n",
       "       'death_perc(%_of_case)', 'avg_daily_case_increase(%_of_pop)',\n",
       "       'case_count_28_days_percent_of_pop', 'death_count_28_days(%_of_case)',\n",
       "       'presence_of_water_violation', 'a', 'b', 'c', 'd', 'e', 'f', 'g', 'h',\n",
       "       'i', 'f'],\n",
       "      dtype='object')"
      ]
     },
     "execution_count": 18,
     "metadata": {},
     "output_type": "execute_result"
    }
   ],
   "source": [
    "data.columns"
   ]
  },
  {
   "cell_type": "code",
   "execution_count": 43,
   "metadata": {},
   "outputs": [],
   "source": [
    "md = smf.mixedlm(\"case_count_28_days_percent_of_pop ~ a + b\", data, groups=data[\"state\"], re_formula=\"a\")"
   ]
  },
  {
   "cell_type": "code",
   "execution_count": 44,
   "metadata": {},
   "outputs": [
    {
     "name": "stderr",
     "output_type": "stream",
     "text": [
      "/opt/anaconda3/lib/python3.7/site-packages/statsmodels/base/model.py:512: ConvergenceWarning: Maximum Likelihood optimization failed to converge. Check mle_retvals\n",
      "  \"Check mle_retvals\", ConvergenceWarning)\n",
      "/opt/anaconda3/lib/python3.7/site-packages/statsmodels/regression/mixed_linear_model.py:2059: ConvergenceWarning: Retrying MixedLM optimization with lbfgs\n",
      "  ConvergenceWarning)\n",
      "/opt/anaconda3/lib/python3.7/site-packages/statsmodels/base/model.py:512: ConvergenceWarning: Maximum Likelihood optimization failed to converge. Check mle_retvals\n",
      "  \"Check mle_retvals\", ConvergenceWarning)\n",
      "/opt/anaconda3/lib/python3.7/site-packages/statsmodels/regression/mixed_linear_model.py:2059: ConvergenceWarning: Retrying MixedLM optimization with cg\n",
      "  ConvergenceWarning)\n",
      "/opt/anaconda3/lib/python3.7/site-packages/statsmodels/base/model.py:512: ConvergenceWarning: Maximum Likelihood optimization failed to converge. Check mle_retvals\n",
      "  \"Check mle_retvals\", ConvergenceWarning)\n",
      "/opt/anaconda3/lib/python3.7/site-packages/statsmodels/regression/mixed_linear_model.py:2063: ConvergenceWarning: MixedLM optimization failed, trying a different optimizer may help.\n",
      "  warnings.warn(msg, ConvergenceWarning)\n",
      "/opt/anaconda3/lib/python3.7/site-packages/statsmodels/regression/mixed_linear_model.py:2075: ConvergenceWarning: Gradient optimization failed, |grad| = 74.929568\n",
      "  warnings.warn(msg, ConvergenceWarning)\n",
      "/opt/anaconda3/lib/python3.7/site-packages/statsmodels/regression/mixed_linear_model.py:2094: ConvergenceWarning: The MLE may be on the boundary of the parameter space.\n",
      "  warnings.warn(msg, ConvergenceWarning)\n",
      "/opt/anaconda3/lib/python3.7/site-packages/statsmodels/regression/mixed_linear_model.py:2115: ConvergenceWarning: The Hessian matrix at the estimated parameter values is not positive definite.\n",
      "  warnings.warn(msg, ConvergenceWarning)\n"
     ]
    }
   ],
   "source": [
    "mdf = md.fit()"
   ]
  },
  {
   "cell_type": "code",
   "execution_count": 45,
   "metadata": {},
   "outputs": [
    {
     "name": "stdout",
     "output_type": "stream",
     "text": [
      "                     Mixed Linear Model Regression Results\n",
      "===============================================================================\n",
      "Model:            MixedLM Dependent Variable: case_count_28_days_percent_of_pop\n",
      "No. Observations: 2200    Method:             REML                             \n",
      "No. Groups:       48      Scale:              0.0332                           \n",
      "Min. group size:  3       Likelihood:         539.8180                         \n",
      "Max. group size:  146     Converged:          No                               \n",
      "Mean group size:  45.8                                                         \n",
      "-----------------------------------------------------------------------------------\n",
      "                     Coef.      Std.Err.       z        P>|z|     [0.025     0.975]\n",
      "-----------------------------------------------------------------------------------\n",
      "Intercept             0.093        0.009      9.839     0.000      0.075      0.112\n",
      "a                    -0.007        0.013     -0.557     0.578     -0.033      0.019\n",
      "b                     0.007        0.005      1.630     0.103     -0.002      0.016\n",
      "Group Var             0.002        0.003                                           \n",
      "Group x a Cov        -0.001        0.004                                           \n",
      "a Var                 0.007                                                        \n",
      "===============================================================================\n",
      "\n"
     ]
    },
    {
     "name": "stderr",
     "output_type": "stream",
     "text": [
      "/opt/anaconda3/lib/python3.7/site-packages/statsmodels/base/model.py:1286: RuntimeWarning: invalid value encountered in sqrt\n",
      "  bse_ = np.sqrt(np.diag(self.cov_params()))\n"
     ]
    }
   ],
   "source": [
    "print(mdf.summary())"
   ]
  },
  {
   "cell_type": "code",
   "execution_count": null,
   "metadata": {},
   "outputs": [],
   "source": []
  }
 ],
 "metadata": {
  "kernelspec": {
   "display_name": "Python 3",
   "language": "python",
   "name": "python3"
  },
  "language_info": {
   "codemirror_mode": {
    "name": "ipython",
    "version": 3
   },
   "file_extension": ".py",
   "mimetype": "text/x-python",
   "name": "python",
   "nbconvert_exporter": "python",
   "pygments_lexer": "ipython3",
   "version": "3.7.4"
  }
 },
 "nbformat": 4,
 "nbformat_minor": 4
}
