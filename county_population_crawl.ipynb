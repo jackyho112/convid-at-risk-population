{
 "cells": [
  {
   "cell_type": "code",
   "execution_count": 1,
   "metadata": {},
   "outputs": [],
   "source": [
    "from bs4 import BeautifulSoup\n",
    "import requests\n",
    "import re\n",
    "import pandas as pd"
   ]
  },
  {
   "cell_type": "code",
   "execution_count": 2,
   "metadata": {},
   "outputs": [],
   "source": [
    "main_request = requests.get(\"https://en.wikipedia.org/wiki/County_(United_States)\")\n",
    "main_wiki = BeautifulSoup(main_request.text)"
   ]
  },
  {
   "cell_type": "code",
   "execution_count": 3,
   "metadata": {},
   "outputs": [],
   "source": [
    "states = main_wiki.select('.wikitable.sortable tbody tr td:first-child .flagicon ~ a')"
   ]
  },
  {
   "cell_type": "code",
   "execution_count": 4,
   "metadata": {},
   "outputs": [],
   "source": [
    "county_states = []\n",
    "counties = []\n",
    "county_populations = []\n",
    "county_land_areas_km = []\n",
    "\n",
    "county_name_pattern = re.compile(r\"(.*) (County|Borough|Parish)\")\n",
    "land_area_pattern = re.compile(r\"\\((\\d+,?\\d+).*km.*\\)\")\n",
    "\n",
    "for state in states[:51]:\n",
    "    state_name = state.text\n",
    "    \n",
    "    if state_name in ['District of Columbia']:\n",
    "        continue\n",
    "    \n",
    "    state_link = \"https://en.wikipedia.org\" + state.attrs['href']\n",
    "    \n",
    "    state_request = requests.get(state_link)\n",
    "    state_page = BeautifulSoup(state_request.text)\n",
    "    county_rows = state_page.select('.wikitable.sortable')[0].select('tbody tr')\n",
    "    \n",
    "    for county in county_rows[1:]:\n",
    "        name = county.select('th')[0].text.replace(\"\\n\", \"\")\n",
    "        \n",
    "        if len(county_name_pattern.findall(name)) > 0:\n",
    "            name = county_name_pattern.findall(name)[0][0]\n",
    "        \n",
    "        cells = county.select('td')\n",
    "        population = int(''.join(cells[-3].text.split(',')))\n",
    "        land_area = int(''.join(land_area_pattern.findall(cells[-2].text)[0].split(',')))\n",
    "    \n",
    "        county_states.append(state_name)\n",
    "        counties.append(name)\n",
    "        county_populations.append(population)\n",
    "        county_land_areas_km.append(land_area)"
   ]
  },
  {
   "cell_type": "code",
   "execution_count": 5,
   "metadata": {},
   "outputs": [],
   "source": [
    "county_df = pd.DataFrame({\n",
    "    'state': county_states,\n",
    "    'county': counties,\n",
    "    'population': county_populations,\n",
    "    'land_area_km': county_land_areas_km\n",
    "})"
   ]
  },
  {
   "cell_type": "code",
   "execution_count": 6,
   "metadata": {},
   "outputs": [],
   "source": [
    "county_df['density_km'] = round(county_df['population']/county_df['land_area_km'], 3)"
   ]
  },
  {
   "cell_type": "code",
   "execution_count": 7,
   "metadata": {},
   "outputs": [],
   "source": [
    "county_df.to_csv('./relevant_data/county-population.csv', index=False)"
   ]
  },
  {
   "cell_type": "code",
   "execution_count": null,
   "metadata": {},
   "outputs": [],
   "source": []
  }
 ],
 "metadata": {
  "kernelspec": {
   "display_name": "Python 3",
   "language": "python",
   "name": "python3"
  },
  "language_info": {
   "codemirror_mode": {
    "name": "ipython",
    "version": 3
   },
   "file_extension": ".py",
   "mimetype": "text/x-python",
   "name": "python",
   "nbconvert_exporter": "python",
   "pygments_lexer": "ipython3",
   "version": "3.7.4"
  }
 },
 "nbformat": 4,
 "nbformat_minor": 4
}
